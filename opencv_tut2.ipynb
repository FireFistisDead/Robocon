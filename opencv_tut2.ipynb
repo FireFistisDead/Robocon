{
 "cells": [
  {
   "cell_type": "code",
   "execution_count": 11,
   "id": "d69ba558-187b-4974-9093-abf3ef13f7af",
   "metadata": {},
   "outputs": [],
   "source": [
    "import cv2\n",
    "import random"
   ]
  },
  {
   "cell_type": "code",
   "execution_count": 12,
   "id": "f6d05e87-8bce-4b96-a7b0-766fafec2fbe",
   "metadata": {},
   "outputs": [],
   "source": [
    "img = cv2.imread('assests/new_img.jpg', -1)"
   ]
  },
  {
   "cell_type": "code",
   "execution_count": 13,
   "id": "dc81335e-1877-4fce-99c1-24fe2aebf434",
   "metadata": {},
   "outputs": [
    {
     "name": "stdout",
     "output_type": "stream",
     "text": [
      "(700, 700, 3)\n"
     ]
    }
   ],
   "source": [
    "print(img.shape)"
   ]
  },
  {
   "cell_type": "code",
   "execution_count": 26,
   "id": "fd1ac996-909e-4134-b9d2-85dd29ba9180",
   "metadata": {},
   "outputs": [],
   "source": [
    "## changing the pixels of the image\n",
    "for i in range(100):\n",
    "    for j in range(img.shape[1]):\n",
    "        img[i][j] = [149, 0, 0]"
   ]
  },
  {
   "cell_type": "code",
   "execution_count": null,
   "id": "242027e7-f1b4-45d4-b4d5-2d42b5eb82d5",
   "metadata": {},
   "outputs": [],
   "source": [
    "## copying image and pasting image\n"
   ]
  },
  {
   "cell_type": "code",
   "execution_count": 28,
   "id": "1e7a1b05-f9de-40fa-96da-3f4c8f505970",
   "metadata": {},
   "outputs": [],
   "source": [
    "cv2.imshow('image', img)\n",
    "cv2.waitKey(0)\n",
    "cv2.destroyAllWindows()"
   ]
  },
  {
   "cell_type": "code",
   "execution_count": null,
   "id": "afaf3e32-e334-4de9-94c6-3a5d29d08093",
   "metadata": {},
   "outputs": [],
   "source": []
  }
 ],
 "metadata": {
  "kernelspec": {
   "display_name": "Python 3 (ipykernel)",
   "language": "python",
   "name": "python3"
  },
  "language_info": {
   "codemirror_mode": {
    "name": "ipython",
    "version": 3
   },
   "file_extension": ".py",
   "mimetype": "text/x-python",
   "name": "python",
   "nbconvert_exporter": "python",
   "pygments_lexer": "ipython3",
   "version": "3.12.3"
  }
 },
 "nbformat": 4,
 "nbformat_minor": 5
}
