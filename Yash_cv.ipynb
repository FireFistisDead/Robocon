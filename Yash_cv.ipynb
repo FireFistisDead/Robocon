{
 "cells": [
  {
   "cell_type": "markdown",
   "id": "fe7d70fe-cde2-4dff-b31d-a708750b77d4",
   "metadata": {},
   "source": [
    "<h1>CV Tutorial</h1>"
   ]
  },
  {
   "cell_type": "markdown",
   "id": "b840b925-2151-4e2c-a7fd-4add51bd3858",
   "metadata": {},
   "source": [
    "importing numpy, pandas and cv2 module"
   ]
  },
  {
   "cell_type": "code",
   "execution_count": 2,
   "id": "54830a4f-f07d-4b23-8094-284728960226",
   "metadata": {},
   "outputs": [],
   "source": [
    "import pandas as pd\n",
    "import numpy as np\n",
    "import cv2"
   ]
  },
  {
   "cell_type": "code",
   "execution_count": 4,
   "id": "cb64b286-845c-45d5-b517-d33a48d7cabb",
   "metadata": {},
   "outputs": [],
   "source": [
    "cap = cv2.VideoCapture(0) ## declaring a cap variable to capture video feed"
   ]
  },
  {
   "cell_type": "markdown",
   "id": "821b0841-acac-49ab-899d-5851f8384a0a",
   "metadata": {},
   "source": [
    "<h3>Trial of CV and camera capturing</h3>\n",
    "using cv to capture the video of the webcam"
   ]
  },
  {
   "cell_type": "code",
   "execution_count": null,
   "id": "7a7ddab8-25ff-457f-a355-3ba4162189ec",
   "metadata": {},
   "outputs": [],
   "source": [
    "while True:\n",
    "    ret, frame = cap.read()\n",
    "    \n",
    "    cv2.imshow('frame', frame)\n",
    "    if cv2.waitKey(1) == ord('q'):\n",
    "        break\n",
    "cap.release()\n",
    "cv2.destroyAllWindows()"
   ]
  },
  {
   "cell_type": "markdown",
   "id": "3468b059-43c3-44b0-8773-2300b8c0975e",
   "metadata": {},
   "source": [
    "<h3>Mirroring multiple times</h3>\n",
    "In this cell i splitted my camera feed into four parts for deeper understanding in cv module"
   ]
  },
  {
   "cell_type": "code",
   "execution_count": null,
   "id": "f4e951b5-f92d-4d51-bf9c-1258cb417897",
   "metadata": {},
   "outputs": [],
   "source": [
    "while True:\n",
    "    ret, frame = cap.read()\n",
    "    width = int(cap.get(3))\n",
    "    height = int(cap.get(4))\n",
    "    \n",
    "    image = np.zeros(frame.shape, np.uint8)\n",
    "    small_frame = cv2.resize(frame, (0, 0), fx = 0.5, fy = 0.5)\n",
    "    image[:height // 2, :width // 2] = small_frame ## top - left\n",
    "    image[:height // 2, width // 2:] = small_frame ## top - right\n",
    "    image[height // 2:, :width // 2] = small_frame ## bottom left\n",
    "    image[height // 2:, width // 2:] = small_frame ## bottom - right\n",
    "    \n",
    "    cv2.imshow('frame', image)\n",
    "    \n",
    "    if cv2.waitKey(1) == ord('q'):\n",
    "        break\n",
    "cap.release()\n",
    "cv2.destroyAllWindows()"
   ]
  },
  {
   "cell_type": "markdown",
   "id": "972e8ffd-8126-4685-b4e9-8c9b2f2c200f",
   "metadata": {},
   "source": [
    "<h3>Rotating a video</h3>\n",
    "This code captures video, resizes each frame, and arranges it in a 2x2 grid. Two quadrants are rotated 180 degrees for a mirrored effect. The video feed is displayed until the 'q' key is pressed, then the program exits."
   ]
  },
  {
   "cell_type": "code",
   "execution_count": null,
   "id": "7ee4b557-4493-4d34-81b6-4a5e95284272",
   "metadata": {},
   "outputs": [],
   "source": [
    "while True:\n",
    "    ret, frame = cap.read()\n",
    "    width = int(cap.get(3))\n",
    "    height = int(cap.get(4))\n",
    "    \n",
    "    image = np.zeros(frame.shape, np.uint8)\n",
    "    small_frame = cv2.resize(frame, (0, 0), fx = 0.5, fy = 0.5)\n",
    "    image[:height // 2, :width // 2] = cv2.rotate(small_frame, cv2.ROTATE_180) ## top - left\n",
    "    image[:height // 2, width // 2:] = small_frame ## top - right\n",
    "    image[height // 2:, :width // 2] = small_frame ## bottom left\n",
    "    image[height // 2:, width // 2:] = cv2.rotate(small_frame, cv2.ROTATE_180)\n",
    "    \n",
    "    cv2.imshow('frame', image)\n",
    "    \n",
    "    if cv2.waitKey(1) == ord('q'):\n",
    "        break\n",
    "cap.release()\n",
    "cv2.destroyAllWindows()"
   ]
  },
  {
   "cell_type": "markdown",
   "id": "b312c528-a5a7-47cb-abbc-34501cc79300",
   "metadata": {},
   "source": [
    "<h3>Drawing and manipulating video feed </h3>"
   ]
  },
  {
   "cell_type": "markdown",
   "id": "edca2af3-6f27-4d00-84a2-a2633c1a100e",
   "metadata": {},
   "source": [
    "<b>*</b> Drawing Lines"
   ]
  },
  {
   "cell_type": "code",
   "execution_count": null,
   "id": "59978ce2-aa02-40f9-888e-1a78258e5a22",
   "metadata": {},
   "outputs": [],
   "source": [
    "while True:\n",
    "    ret, frame = cap.read()\n",
    "    width = int(cap.get(3))\n",
    "    height = int(cap.get(4))\n",
    "    img = cv2.line(frame, (0, 0), (width, height), (255, 0, 0), 10)\n",
    "    img = cv2.line(img, (width, 0), (0, height), (255, 0, 0), 10)\n",
    "    cv2.imshow('frame', img)\n",
    "    if cv2.waitKey(1) == ord('q'):\n",
    "        break\n",
    "\n",
    "cap.release()\n",
    "cv2.destroyAllWindows()"
   ]
  },
  {
   "cell_type": "markdown",
   "id": "4ebb9a36-0d2b-4612-9175-5261ba6a0edc",
   "metadata": {},
   "source": [
    "<b>*</b> Drawing rectangles"
   ]
  },
  {
   "cell_type": "code",
   "execution_count": null,
   "id": "383ad38f-a8fb-406e-8ac7-0f2a00afe25b",
   "metadata": {},
   "outputs": [],
   "source": [
    "while True:\n",
    "    ret, frame = cap.read()\n",
    "    width = int(cap.get(3))\n",
    "    height = int(cap.get(4))\n",
    "    img = cv2.rectangle(frame, (100, 100), (200, 200), (0, 0, 0), 10)\n",
    "    cv2.imshow('frame', img)\n",
    "    if cv2.waitKey(1) == ord('q'):\n",
    "        break\n",
    "\n",
    "cap.release()\n",
    "cv2.destroyAllWindows()"
   ]
  },
  {
   "cell_type": "markdown",
   "id": "db7828ab-2768-4adf-a5f0-a4edb93ee903",
   "metadata": {},
   "source": [
    "<b>*</b> Drawing Text"
   ]
  },
  {
   "cell_type": "code",
   "execution_count": 3,
   "id": "9b854242-271e-49f3-938a-8c97995e4f5c",
   "metadata": {},
   "outputs": [],
   "source": [
    "while True:\n",
    "    ret, frame = cap.read()\n",
    "    width = int(cap.get(3))\n",
    "    height = int(cap.get(4))\n",
    "    font = cv2.FONT_HERSHEY_SIMPLEX\n",
    "    img = cv2.putText(frame, 'Yash Khare',(10, height - 10), font , 1, (0, 0, 0), 4)\n",
    "    cv2.imshow('frame', img)\n",
    "    if cv2.waitKey(1) == ord('q'):\n",
    "        break\n",
    "\n",
    "cap.release()\n",
    "cv2.destroyAllWindows()"
   ]
  },
  {
   "cell_type": "markdown",
   "id": "e37ea672-0640-4e3b-8924-783054dde04f",
   "metadata": {},
   "source": [
    "<h3>Colors and Color Detection</h3>\n",
    "In this section i learned how to detect a particular color from an image/video and about HSV and HSL images which are essential for color Detection  "
   ]
  },
  {
   "cell_type": "markdown",
   "id": "468c264a-8510-4d1a-88c0-be987c452f66",
   "metadata": {},
   "source": [
    "### Blue Color Detection in Webcam Feed\n",
    "\n",
    "This code captures video from the webcam, converts each frame from BGR to HSV color space, and applies a mask to isolate blue regions based on a specified color range. The result is a video that highlights only the blue areas of the frame, while everything else is black. The processed video is displayed until the 'q' key is pressed to exit.\n",
    "\n",
    "#### Key Points:\n",
    "- `cv2.cvtColor(frame, cv2.COLOR_BGR2HSV)`: Converts the frame to HSV color space.\n",
    "- `cv2.inRange(hsv, lower_blue, upper_blue)`: Creates a mask for the blue color range.\n",
    "- `cv2.bitwise_and(frame, frame, mask=mask)`: Applies the mask to show only the blue areas.\n",
    "- `cv2.imshow('HSV', result)`: Displays the output with blue regions highlighted.\n"
   ]
  },
  {
   "cell_type": "code",
   "execution_count": 17,
   "id": "7dc91064-01e7-4dd0-a529-d4456654fdc1",
   "metadata": {},
   "outputs": [],
   "source": [
    "while True:\n",
    "    ret, frame = cap.read()\n",
    "    width = int(cap.get(3))\n",
    "    height = int(cap.get(4))\n",
    "\n",
    "    hsv = cv2.cvtColor(frame, cv2.COLOR_BGR2HSV)\n",
    "    lower_blue = np.array([100, 0, 0])\n",
    "    upper_blue = np.array([135, 255, 255])\n",
    "\n",
    "    mask = cv2.inRange(hsv, lower_blue, upper_blue)\n",
    "\n",
    "    result = cv2.bitwise_and(frame, frame, mask = mask)\n",
    "    \n",
    "    cv2.imshow('HSV', result)\n",
    "    # cv2.imshow('mask', mask)\n",
    "    \n",
    "    if cv2.waitKey(1) == ord('q'):\n",
    "        break\n",
    "cap.release()\n",
    "cv2.destroyAllWindows()"
   ]
  },
  {
   "cell_type": "markdown",
   "id": "646ccaaa-0eb3-42ac-b8d0-c167621c642d",
   "metadata": {},
   "source": [
    "### Red Color Detection in Webcam Feed\n",
    "\n",
    "This code captures video from the webcam, converts each frame from BGR to HSV color space, and applies a mask to isolate red regions based on a specified color range. The result is a video that highlights only the red areas of the frame, while everything else is black. The processed video is displayed until the 'q' key is pressed to exit.\n",
    "\n",
    "#### Key Points:\n",
    "- `cv2.cvtColor(frame, cv2.COLOR_BGR2HSV)`: Converts the frame to HSV color space.\n",
    "- `cv2.inRange(hsv2, lower_red, upper_red)`: Creates a mask for the red color range.\n",
    "- `cv2.bitwise_and(frame, frame, mask=mask2)`: Applies the mask to show only the red areas.\n",
    "- `cv2.imshow('Frame', result2)`: Displays the output with red regions highlighted.\n"
   ]
  },
  {
   "cell_type": "code",
   "execution_count": 28,
   "id": "d37488f0-11f8-4254-8079-499d66be35e3",
   "metadata": {},
   "outputs": [],
   "source": [
    "while True:\n",
    "    re, frame = cap.read()\n",
    "    width3 = int(cap.get(3))\n",
    "    height3 = int(cap.get(4))\n",
    "\n",
    "    hsv2 = cv2.cvtColor(frame, cv2.COLOR_BGR2HSV)\n",
    "\n",
    "    lower_red = np.array([0, 0, 100])\n",
    "    upper_red = np.array([255, 155, 135])\n",
    "\n",
    "    mask2 = cv2.inRange(hsv2, lower_red, upper_red)\n",
    "\n",
    "    result2 = cv2.bitwise_and(frame, frame, mask = mask2)\n",
    "    cv2.imshow('Frame', result2)\n",
    "\n",
    "    if cv2.waitKey(1) == ord('q'):\n",
    "        break\n",
    "cap.release()\n",
    "cv2.destroyAllWindows()"
   ]
  },
  {
   "cell_type": "markdown",
   "id": "50301002-af77-4b9e-af77-6e59b7856440",
   "metadata": {},
   "source": [
    "## Corner Detection - using Shi - Tomasi Technique\n",
    "Link for Reference - https://docs.opencv.org/4.x/d4/d8c/tutorial_py_shi_tomasi.html"
   ]
  },
  {
   "cell_type": "markdown",
   "id": "a099dd97-e5dc-47a1-8a61-c3cabec27e8c",
   "metadata": {},
   "source": [
    "### Detecting Corners in an Image (Rubik's Cube)\n",
    "\n",
    "This code reads an image of a Rubik's Cube, converts it to grayscale, detects corners in the image, and then highlights those corners with blue circles. The resulting image is displayed in a window.\n",
    "\n",
    "#### Key Points:\n",
    "- `cv2.imread('assests/Rubik's_Cube.jpg')`: Loads the image from the specified path.\n",
    "- `cv2.cvtColor(img4, cv2.COLOR_BGR2GRAY)`: Converts the BGR image to grayscale.\n",
    "- `cv2.goodFeaturesToTrack(rimg4, 100, 0.01, 1)`: Detects up to 100 corners in the grayscale image, using a quality level of 0.01 and a minimum distance of 1 pixel between corners.\n",
    "- `corners.astype(np.int64)`: Converts the corner coordinates to integer format for drawing.\n",
    "- `cv2.circle(img4, (x, y), 5, (255, 0, 0), -1)`: Draws blue circles of radius 5 at the detected corner positions.\n",
    "- `cv2.imshow('ChessBoard', img4)`: Displays the image with the highlighted corners.\n",
    "- `cv2.waitKey(0)` and `cv2.destroyAllWindows()`: Waits for a key press to close the window and clean up.\n",
    "\n",
    "The result is a visual representation of the corners detected in the image of the Rubik's Cube.\n"
   ]
  },
  {
   "cell_type": "code",
   "execution_count": 12,
   "id": "4219feea-5f9e-4e1a-9380-34c967cd82b1",
   "metadata": {},
   "outputs": [],
   "source": [
    "## This whole code is 80% accurate\n",
    "\n",
    "img4 = cv2.imread('assests/Rubik\\'s_Cube.jpg')\n",
    "# img4 = cv2.resize(img4, (0, 0), fx = 0.75, fy = 0.75)\n",
    "rimg4 = cv2.cvtColor(img4, cv2.COLOR_BGR2GRAY) ## Converting BGR color image to GRAY color image\n",
    "corners = cv2.goodFeaturesToTrack(rimg4, 100, 0.01, 1)\n",
    "corners = corners.astype(np.int64)  # or np.int32 depending on your need\n",
    "\n",
    "for corner in corners:\n",
    "    x, y = corner.ravel()\n",
    "    cv2.circle(img4, (x, y), 5, (255, 0, 0), -1)\n",
    "cv2.imshow('ChessBoard', img4)\n",
    "cv2.waitKey(0)\n",
    "cv2.destroyAllWindows()"
   ]
  },
  {
   "cell_type": "markdown",
   "id": "bb7dda24-21a4-4c6f-b881-fd6f3e46b770",
   "metadata": {},
   "source": [
    "## Template Matching - Object Detection"
   ]
  },
  {
   "cell_type": "code",
   "execution_count": 3,
   "id": "eb69fe26-648e-4a5d-a9d1-2bebb5aca804",
   "metadata": {},
   "outputs": [],
   "source": [
    "image5 = cv2.imread('assests/soccer.jpg', 0)\n",
    "template = cv2.imread('assests/ball2.png', 0)\n",
    "image5 = cv2.resize(image5, (0, 0), fx = 6, fy = 6)\n",
    "h, w = image5.shape\n",
    "\n",
    "methods = ['TM_CCOEFF', 'TM_CCOEFF_NORMED', 'TM_CCORR',\n",
    " 'TM_CCORR_NORMED', 'TM_SQDIFF', 'TM_SQDIFF_NORMED']\n",
    "for method in methods:\n",
    "    imgr = image5.copy()\n",
    "    method_eval = getattr(cv2, method)  # Get method constant (convert string to integer constant)\n",
    "    result = cv2.matchTemplate(imgr, template, method_eval)\n",
    "    min_val, max_val, min_loc, max_loc = cv2.minMaxLoc(result)\n",
    "\n",
    "    if method in [cv2.TM_SQDIFF, cv2.TM_SQDIFF_NORMED]:\n",
    "        top_left = min_loc\n",
    "    else:\n",
    "        top_left = max_loc\n",
    "    bottom_right = (top_left[0] + w, top_left[1] + h)\n",
    "    cv2.rectangle(imgr, top_left, bottom_right, 255, 5)\n",
    "    cv2.imshow('Matching Image', imgr)\n",
    "    cv2.waitKey(0)\n",
    "    cv2.destroyAllWindows()"
   ]
  },
  {
   "cell_type": "code",
   "execution_count": null,
   "id": "ad553dd5-d391-4d25-82f4-50598f8096bc",
   "metadata": {},
   "outputs": [],
   "source": []
  }
 ],
 "metadata": {
  "kernelspec": {
   "display_name": "Python 3 (ipykernel)",
   "language": "python",
   "name": "python3"
  },
  "language_info": {
   "codemirror_mode": {
    "name": "ipython",
    "version": 3
   },
   "file_extension": ".py",
   "mimetype": "text/x-python",
   "name": "python",
   "nbconvert_exporter": "python",
   "pygments_lexer": "ipython3",
   "version": "3.12.3"
  }
 },
 "nbformat": 4,
 "nbformat_minor": 5
}
