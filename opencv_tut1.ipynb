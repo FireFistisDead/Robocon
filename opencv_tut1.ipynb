{
 "cells": [
  {
   "cell_type": "code",
   "execution_count": 27,
   "id": "11eb1dbe-c7a6-4eb4-82a7-cdba23232d49",
   "metadata": {},
   "outputs": [],
   "source": [
    "import cv2"
   ]
  },
  {
   "cell_type": "code",
   "execution_count": 28,
   "id": "b0069a49-6e34-4d0c-b2b0-e554a9d60978",
   "metadata": {},
   "outputs": [],
   "source": [
    "img = cv2.imread('assests/photo_2k24_garba.jpg')\n"
   ]
  },
  {
   "cell_type": "code",
   "execution_count": 39,
   "id": "a436fd2b-f941-411b-a696-23739b5f2f7a",
   "metadata": {},
   "outputs": [],
   "source": [
    "## resizing an image\n",
    "\n",
    "img = cv2.resize(img, (700, 700))"
   ]
  },
  {
   "cell_type": "code",
   "execution_count": 51,
   "id": "698ca7cf-3316-4cb1-8d61-b86782867fa5",
   "metadata": {},
   "outputs": [],
   "source": [
    "## rotating an image\n",
    "img = cv2.rotate(img, cv2.ROTATE_180)"
   ]
  },
  {
   "cell_type": "code",
   "execution_count": 52,
   "id": "5341e2cd-0df2-4ce9-8805-89d8d68ac007",
   "metadata": {},
   "outputs": [],
   "source": [
    "cv2.imshow('Image', img)\n",
    "cv2.waitKey(0)\n",
    "cv2.destroyAllWindows()"
   ]
  },
  {
   "cell_type": "code",
   "execution_count": 53,
   "id": "94ee0654-1d14-4da7-bd6e-1e043cdebc67",
   "metadata": {},
   "outputs": [
    {
     "data": {
      "text/plain": [
       "True"
      ]
     },
     "execution_count": 53,
     "metadata": {},
     "output_type": "execute_result"
    }
   ],
   "source": [
    "## saving img\n",
    "cv2.imwrite('new_img.jpg', img)"
   ]
  },
  {
   "cell_type": "code",
   "execution_count": null,
   "id": "eec79f4c-fee3-473f-b5a2-abd1504cf7e5",
   "metadata": {},
   "outputs": [],
   "source": []
  }
 ],
 "metadata": {
  "kernelspec": {
   "display_name": "Python 3 (ipykernel)",
   "language": "python",
   "name": "python3"
  },
  "language_info": {
   "codemirror_mode": {
    "name": "ipython",
    "version": 3
   },
   "file_extension": ".py",
   "mimetype": "text/x-python",
   "name": "python",
   "nbconvert_exporter": "python",
   "pygments_lexer": "ipython3",
   "version": "3.12.3"
  }
 },
 "nbformat": 4,
 "nbformat_minor": 5
}
